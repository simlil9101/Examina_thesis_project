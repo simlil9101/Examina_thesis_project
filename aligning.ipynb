{
 "cells": [
  {
   "cell_type": "code",
   "execution_count": 11,
   "metadata": {},
   "outputs": [],
   "source": [
    "import os\n",
    "import MDAnalysis as md\n",
    "from MDAnalysis.analysis import align\n",
    "import h5py\n",
    "import numpy as np\n",
    "import scipy\n",
    "import matplotlib.pyplot as plt"
   ]
  },
  {
   "cell_type": "code",
   "execution_count": null,
   "metadata": {},
   "outputs": [],
   "source": [
    "# Here we select all the amino acid residues that shall be aligned to the ubiWT. This is in the same fashion as performed by PyMoL\n",
    "selection_WT = 'all'\n",
    "selection_6  = \"(resid 1:5, 1:53, 55:72, 74)\"\n",
    "selection_20 = \"(resid 1:6, 10:19, 21:46, 48:71)\"\n",
    "selection_35 = \"(resid 1:6, 11:34, 36:71)\"\n",
    "selection_48 = \"(resid 1:1, 3:6, 11:20, 22:45, 49:71)\""
   ]
  },
  {
   "cell_type": "code",
   "execution_count": null,
   "metadata": {},
   "outputs": [
    {
     "name": "stderr",
     "output_type": "stream",
     "text": [
      "/home/simon/.conda/envs/explode/lib/python3.8/site-packages/MDAnalysis/analysis/align.py:1394: SelectionWarning: Reference and trajectory atom selections do not contain the same number of atoms: \n",
      "atoms:    N_ref=1030, N_traj=1029\n",
      "but we attempt to create a valid selection (use strict=True to disable this heuristic).\n",
      "  warnings.warn(msg, category=SelectionWarning)\n"
     ]
    }
   ],
   "source": [
    "# For all energies ...\n",
    "for energy in ['300ev', '600ev', '2000ev']:\n",
    "\n",
    "    # for all mutants ...\n",
    "    for mutant in [['ubiWT', selection_WT], ['ubi6', selection_6], ['ubi20', selection_20], ['ubi35', selection_35], ['ubi48', selection_48]]:\n",
    "        conf = mutant[0]\n",
    "        cpath = f\"/home/simon/results/quick_pulse/{energy}\"\n",
    "        os.chdir(cpath)\n",
    "        os.mkdir(f\"{conf}_aligned\")\n",
    "\n",
    "        # for all simulations ...\n",
    "        for i in range(100):\n",
    "\n",
    "            os.chdir(cpath)\n",
    "\n",
    "            # load the trajectory and structure of the ubiWT (which will be aligned TO)\n",
    "            trr_WT = f\"/home/simon/results/last_frame/{energy}/ubiWT_static/sim1/ubiWT.trr\"\n",
    "            gro_WT = f\"/home/simon/structure_files/gros/ubiWT.gro\"\n",
    "\n",
    "            # load the current trajectory and structure (that will be aligned to ubiWT)\n",
    "            gro = f\"/home/simon/structure_files/gros/{conf}.gro\"\n",
    "            trr = f\"{cpath}/{conf}_unaligned/sim{i+1}/{conf}.trr\"\n",
    "\n",
    "            # Calculate the md.analysis universes\n",
    "            structure_WT = md.Universe(gro_WT, trr_WT,)\n",
    "            structure_conf = md.Universe(gro, trr,)\n",
    "\n",
    "            # Since we will align the first frame, we select it\n",
    "            structure_WT.trajectory[0]\n",
    "            structure_conf.trajectory[0]\n",
    "\n",
    "            # take this mutants selection of amino acids to be aligned\n",
    "            selection = mutant[1]\n",
    "\n",
    "            # Align the structure to the ubiWT\n",
    "            align.AlignTraj(structure_conf, structure_WT, select=selection, in_memory=True).run()\n",
    "            ag = structure_conf.atoms.select_atoms(\"all\")\n",
    "\n",
    "            # Here we calculate the new data for the data.h5 file\n",
    "            structure_conf.trajectory[0]\n",
    "            vel_i = ag.velocities.copy()  # Copy initial velocities\n",
    "            pos_i = ag.positions.copy()  # Copy initial positions\n",
    "            structure_conf.trajectory[-1]  # Move to the last frame of the trajectory\n",
    "            vel_f = ag.velocities.copy()  # Copy final velocities\n",
    "            pos_f = ag.positions.copy()  # Copy final positions\n",
    "            vel_data = [(x / np.linalg.norm(x)) if np.linalg.norm(x) != 0 else x for x in vel_f]  # Normalize velocities\n",
    "            pos_data = [(x / np.linalg.norm(x)) if np.linalg.norm(x) != 0 else x for x in (pos_f - pos_i)]  # Normalize displacements\n",
    "            \n",
    "            os.chdir(f\"{conf}_aligned\")\n",
    "\n",
    "            aligned_trr_path = f\"sim{i+1}\"\n",
    "            os.makedirs(aligned_trr_path)\n",
    "\n",
    "            # Now we create the h5-file\n",
    "            with md.Writer(f\"{aligned_trr_path}/{conf}.trr\", structure_conf.atoms.n_atoms) as w:\n",
    "                for ts in structure_conf.trajectory:\n",
    "                    w.write(structure_conf.atoms)\n",
    "\n",
    "            # Then we open the data.h5 file and write all the information\n",
    "            with h5py.File(f\"data.h5\", 'a') as file:\n",
    "                group_path = f\"sim{i+1}\"\n",
    "                group = file.require_group(group_path)  # Create or get the group for this simulation\n",
    "                group.create_dataset(\"unit_velocity\", data=vel_data)\n",
    "                group.create_dataset(\"unit_displacement\", data=pos_data)\n",
    "                group.create_dataset(\"initial_position\", data=pos_i)\n",
    "                group.create_dataset(\"final_position\", data=pos_f)\n",
    "                group.create_dataset(\"initial_velocity\", data=vel_i)\n",
    "                group.create_dataset(\"final_velocity\", data=vel_f)"
   ]
  }
 ],
 "metadata": {
  "kernelspec": {
   "display_name": "Python 3",
   "language": "python",
   "name": "python3"
  },
  "language_info": {
   "codemirror_mode": {
    "name": "ipython",
    "version": 3
   },
   "file_extension": ".py",
   "mimetype": "text/x-python",
   "name": "python",
   "nbconvert_exporter": "python",
   "pygments_lexer": "ipython3",
   "version": "3.8.20"
  }
 },
 "nbformat": 4,
 "nbformat_minor": 2
}
